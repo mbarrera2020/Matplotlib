{
 "cells": [
  {
   "cell_type": "markdown",
   "metadata": {},
   "source": [
    "# Pymaceuticals Inc.\n",
    "---\n",
    "\n",
    "### Observations and Insights\n",
    "- Total number of measurements taken on each drug regimen ranged ~ 150 - 240. \n",
    "- Pretty equal distribution of female (49%) versus male (51%) mice.\n",
    "- On the mice tested, Capomulin & Ramicane had the higher tumor volume compared to other drugs.\n",
    "- For Capomulin drug regimen, the average tumor volume increased with increased mouse weight.\n"
   ]
  },
  {
   "cell_type": "code",
   "execution_count": null,
   "metadata": {},
   "outputs": [],
   "source": [
    "# Dependencies and Setup\n",
    "import matplotlib.pyplot as plt\n",
    "import pandas as pd\n",
    "import scipy.stats as st\n",
    "\n",
    "import numpy as np\n",
    "import random\n",
    "\n",
    "import operator   # needed to make sort work\n",
    "\n",
    "# Study data files\n",
    "mouse_metadata_path = \"data/Mouse_metadata.csv\"\n",
    "study_results_path = \"data/Study_results.csv\"\n",
    "\n",
    "# Read the mouse data and the study results\n",
    "mouse_metadata = pd.read_csv(mouse_metadata_path)\n",
    "study_results = pd.read_csv(study_results_path)"
   ]
  },
  {
   "cell_type": "code",
   "execution_count": null,
   "metadata": {},
   "outputs": [],
   "source": [
    "mouse_metadata"
   ]
  },
  {
   "cell_type": "code",
   "execution_count": null,
   "metadata": {},
   "outputs": [],
   "source": [
    "study_results"
   ]
  },
  {
   "cell_type": "code",
   "execution_count": null,
   "metadata": {},
   "outputs": [],
   "source": [
    "# keep orginal data and make a copy\n",
    "mm_df = mouse_metadata\n",
    "sr_df = study_results"
   ]
  },
  {
   "cell_type": "code",
   "execution_count": null,
   "metadata": {},
   "outputs": [],
   "source": [
    "# Merge our two data frames together\n",
    "combo_df = pd.merge(mm_df, sr_df, on=\"Mouse ID\")\n",
    "combo_df.head()"
   ]
  },
  {
   "cell_type": "code",
   "execution_count": null,
   "metadata": {},
   "outputs": [],
   "source": [
    "# clean the data but keep original combo_df file\n",
    "\n",
    "combined_df = combo_df.dropna(how=\"any\")\n",
    "combined_df\n",
    "\n",
    "# ** NOTE:  Going fwd use combined_df as the dataframe to use for calculations, etc."
   ]
  },
  {
   "cell_type": "code",
   "execution_count": null,
   "metadata": {},
   "outputs": [],
   "source": [
    "# Check the number of mice.\n",
    "\n",
    "num_mice = len(pd.unique(mm_df[\"Mouse ID\"]))\n",
    "print('Numnber of mice: ', num_mice)"
   ]
  },
  {
   "cell_type": "code",
   "execution_count": null,
   "metadata": {},
   "outputs": [],
   "source": [
    "# Getting the duplicate mice by ID number that shows up for Mouse ID and Timepoint. \n",
    "#   ** Note:  Mouse result should be:  array(['g989'], dtype=object)\n",
    "# Optional: Get all the data for the duplicate mouse ID. \n",
    "\n",
    "# Selecting duplicate rows except first  \n",
    "\n",
    "# occurrence based on all columns \n",
    "# Create a clean DataFrame by dropping the duplicate mouse by its ID.\n",
    "duplicate = combined_df[combined_df.duplicated(['Mouse ID','Timepoint'], keep=False)] \n",
    "  \n",
    "print(\"Duplicate Row(s) :\") \n",
    "  \n",
    "# Print the resultant Dataframe \n",
    "duplicate "
   ]
  },
  {
   "cell_type": "code",
   "execution_count": null,
   "metadata": {},
   "outputs": [],
   "source": [
    "# Checking the number of mice in the clean DataFrame.\n",
    "\n",
    "# remove duplicates\n",
    "clean_df=combined_df[combined_df['Mouse ID'] != 'g989']\n",
    "clean_df['Mouse ID'].nunique()\n",
    "\n",
    "num_mice = len(pd.unique(clean_df[\"Mouse ID\"]))\n",
    "print('Numnber of mice after removal of duplicate: ', num_mice)\n",
    "print()"
   ]
  },
  {
   "cell_type": "code",
   "execution_count": null,
   "metadata": {},
   "outputs": [],
   "source": [
    "# Display the 'cleaned' dataframe\n",
    "clean_df"
   ]
  },
  {
   "cell_type": "code",
   "execution_count": null,
   "metadata": {},
   "outputs": [],
   "source": [
    "num_drug_regimen = len(pd.unique(clean_df[\"Drug Regimen\"]))\n",
    "print('Numnber of Drug Regimen: ', num_drug_regimen)\n",
    "print()"
   ]
  },
  {
   "cell_type": "markdown",
   "metadata": {},
   "source": [
    "## Summary Statistics"
   ]
  },
  {
   "cell_type": "code",
   "execution_count": null,
   "metadata": {
    "scrolled": false
   },
   "outputs": [],
   "source": [
    "# Generate a summary statistics table of mean, median, variance, standard deviation, \n",
    "#and SEM of the tumor volume for each regimen\n",
    "\n",
    "# Use groupby and summary statistical methods to calculate the following properties of each drug regimen: \n",
    "# mean, median, variance, standard deviation, and SEM of the tumor volume. \n",
    "# Assemble the resulting series into a single summary dataframe.\n",
    "\n",
    "summary_stats_df = combined_df.groupby('Drug Regimen').agg({'Tumor Volume (mm3)': \n",
    "                                                            ['mean', 'median', 'var','std', 'sem']})\n",
    "                                          \n",
    "summary_stats_df"
   ]
  },
  {
   "cell_type": "markdown",
   "metadata": {},
   "source": [
    "## Bar and Pie Charts"
   ]
  },
  {
   "cell_type": "markdown",
   "metadata": {},
   "source": [
    "#### Generate a bar plot showing the total number of measurements taken on each drug regimen using pandas.\n",
    "\n",
    "#### NOTE:  USE clean_df "
   ]
  },
  {
   "cell_type": "code",
   "execution_count": null,
   "metadata": {},
   "outputs": [],
   "source": [
    "num_drug_regimen = len(pd.unique(clean_df[\"Drug Regimen\"]))\n",
    "print('Number of Drug Regimen: ', num_drug_regimen)\n",
    "print()\n",
    "\n",
    "drugs = pd.unique(clean_df[\"Drug Regimen\"])\n",
    "drugs"
   ]
  },
  {
   "cell_type": "code",
   "execution_count": null,
   "metadata": {},
   "outputs": [],
   "source": [
    "drugs = pd.unique(clean_df[\"Drug Regimen\"])\n",
    "drugs"
   ]
  },
  {
   "cell_type": "code",
   "execution_count": null,
   "metadata": {},
   "outputs": [],
   "source": [
    "#for reference only\n",
    "clean_df.columns"
   ]
  },
  {
   "cell_type": "code",
   "execution_count": null,
   "metadata": {},
   "outputs": [],
   "source": [
    "# -- for reference only -- to be used for charts below\n",
    "\n",
    "summary_stats_df = summary_stats_df.rename(columns={'Tumor Volume (mm3)': 'Mean Tumor Volume'})  \n",
    "summary_stats_df\n",
    "\n",
    "new_df = combined_df.groupby('Drug Regimen').agg({'Tumor Volume (mm3)': ['mean', 'median', 'var','std', 'sem']})\n",
    "new_df.head()"
   ]
  },
  {
   "cell_type": "code",
   "execution_count": null,
   "metadata": {},
   "outputs": [],
   "source": [
    "# total number of measurements per drug\n",
    "grp_by_drug_measurement = combined_df.groupby('Drug Regimen').agg({'Tumor Volume (mm3)': 'count'})\n",
    "grp_by_drug_measurement"
   ]
  },
  {
   "cell_type": "markdown",
   "metadata": {},
   "source": [
    "#### The following cells will be used for chart references below:"
   ]
  },
  {
   "cell_type": "code",
   "execution_count": null,
   "metadata": {},
   "outputs": [],
   "source": [
    "drugs = pd.unique(clean_df[\"Drug Regimen\"])\n",
    "drugs"
   ]
  },
  {
   "cell_type": "code",
   "execution_count": null,
   "metadata": {},
   "outputs": [],
   "source": [
    "# measurements sorted by Drug Regimen\n",
    "measurements = grp_by_drug_measurement['Tumor Volume (mm3)']\n",
    "measurements"
   ]
  },
  {
   "cell_type": "code",
   "execution_count": null,
   "metadata": {},
   "outputs": [],
   "source": [
    "#sort by Tumor Volume (mm3) in descending order\n",
    "type(measurements)\n",
    "measurements = measurements.sort_values(ascending=False)\n",
    "measurements"
   ]
  },
  {
   "cell_type": "markdown",
   "metadata": {},
   "source": [
    "## BAR chart using PANDAS"
   ]
  },
  {
   "cell_type": "code",
   "execution_count": null,
   "metadata": {},
   "outputs": [],
   "source": [
    "# Generate a bar plot showing the total number of measurements taken \n",
    "# on each drug regimen using PANDAS.\n",
    "measurements.plot(kind=\"bar\")\n",
    "\n",
    "plt.legend()\n",
    "plt.close"
   ]
  },
  {
   "cell_type": "markdown",
   "metadata": {},
   "source": [
    "## BAR chart using PYPLOT"
   ]
  },
  {
   "cell_type": "code",
   "execution_count": null,
   "metadata": {},
   "outputs": [],
   "source": [
    "# Generate a bar plot showing the total number of measurements taken \n",
    "# on each drug regimen using PYPLOT.\n",
    "\n",
    "#%matplotlib notebook\n",
    "\n",
    "# NOTE: use variables above for the charts\n",
    "# x-axis will be drugs --> variable: drugs\n",
    "# y-axis will be # of measurements taken per drug regimen --> variable: measurements\n",
    "\n",
    "x_axis = np.arange(0, len(measurements))\n",
    "\n",
    "# Tell matplotlib that chart to be created is a bar chart\n",
    "# Apply align=\"edge\" to ensure the bars line up with the tick marks\n",
    "plt.bar(x_axis, measurements, facecolor=\"red\", alpha=0.75, align=\"center\")\n",
    "\n",
    "# Tell matplotlib where we would like to place each of our x axis headers\n",
    "tick_locations = [value for value in x_axis]\n",
    "\n",
    "# pass in the tick location and the label you want to appear on the ticks (in order)\n",
    "#plt.xticks(tick_locations, drugs, rotation=\"vertical\")\n",
    "plt.xticks(tick_locations, drugs, rotation=65)\n",
    "\n",
    "# Sets the x limits of the current chart\n",
    "# using len(x_axis)-0.25 will go to the last value in your x-axis and come back a small amount. \n",
    "# This is based on the size of your data\n",
    "\n",
    "plt.xlim(-0.75, len(x_axis)-0.25)\n",
    "\n",
    "plt.ylim(0, max(measurements)+25, +50)\n",
    "\n",
    "# Set a Title and labels\n",
    "plt.title(\"Total Number of Measurements per Drug\")\n",
    "plt.xlabel(\"Drug Regimen\")\n",
    "plt.ylabel(\"Number of Unique Mice Tested\")\n",
    "\n",
    "# tight_layout() adjusts the visual of our graph making it easier to see\n",
    "plt.tight_layout()\n",
    "\n",
    "# Save our graph and show the graph\n",
    "# plt.savefig(\"../Images/<xyz.png\")\n",
    "plt.show()\n",
    "\n",
    "plt.close"
   ]
  },
  {
   "cell_type": "markdown",
   "metadata": {},
   "source": [
    "####  Generate a pie plot showing the distribution of female versus male mice using PANDAS."
   ]
  },
  {
   "cell_type": "code",
   "execution_count": null,
   "metadata": {},
   "outputs": [],
   "source": [
    "# count number of male, female mice \n",
    "\n",
    "mice_df = mm_df.groupby('Sex').agg({'Sex': 'count'})  \n",
    "\n",
    "# rename column\n",
    "ren_mice_df = mice_df.rename(columns={'Sex': 'Count'})                      \n",
    "ren_mice_df"
   ]
  },
  {
   "cell_type": "code",
   "execution_count": null,
   "metadata": {},
   "outputs": [],
   "source": [
    "# Display mouse count by sex -- using loc \n",
    "\n",
    "num_female = mice_df.loc['Female', 'Sex']\n",
    "num_male = mice_df.loc['Male', 'Sex']\n",
    "\n",
    "print(\"Female: \", num_female, \"  Male: \", num_male)"
   ]
  },
  {
   "cell_type": "markdown",
   "metadata": {},
   "source": [
    "# PIE chart using PANDAS"
   ]
  },
  {
   "cell_type": "code",
   "execution_count": null,
   "metadata": {},
   "outputs": [],
   "source": [
    "# Generate a pie plot showing the distribution of female versus male mice using PANDAS.\n",
    "\n",
    "mice_df.plot(kind=\"pie\", subplots = True, figsize = (4, 4), \n",
    "             colors = [\"pink\", \"blue\"], autopct=\"%1.1f%%\", startangle=40)\n",
    "\n",
    "plt.close"
   ]
  },
  {
   "cell_type": "markdown",
   "metadata": {},
   "source": [
    "# PIE chart using PYPLOT"
   ]
  },
  {
   "cell_type": "code",
   "execution_count": null,
   "metadata": {},
   "outputs": [],
   "source": [
    "# Generate a pie plot showing the distribution of female versus male mice using pyplot\n",
    "\n",
    "# Labels for the sections of our pie chart\n",
    "labels = [\"Females\", \"Males\"]\n",
    "\n",
    "# The values of each section of the pie chart  -- use the variables for count of mice: female & male\n",
    "sizes = [num_female, num_male]\n",
    "\n",
    "# The colors of each section of the pie chart\n",
    "colors = [\"pink\", \"blue\"]\n",
    "\n",
    "# Tells matplotlib to seperate the \"Females\" section from the others\n",
    "explode = (0.1, 0)\n",
    "\n",
    "# Creates the pie chart based upon the values above\n",
    "# Automatically finds the percentages of each part of the pie chart\n",
    "\n",
    "plt.pie(sizes, explode=explode, labels=labels, colors=colors, autopct=\"%1.1f%%\", shadow=True, startangle=140)\n",
    "\n",
    "# Tells matplotlib that we want a pie chart with equal axes\n",
    "#plt.axis(\"equal\")\n",
    "\n",
    "# Set a Title and labels\n",
    "plt.title(\"Distribution of Female vs Male Mice\")\n",
    "\n",
    "#plt.legend()\n",
    "\n",
    "plt.show()\n",
    "plt.close"
   ]
  },
  {
   "cell_type": "markdown",
   "metadata": {},
   "source": [
    "for ref only\n",
    "import matplotlib\n",
    "matplotlib.axes.Axes.pie\n",
    "matplotlib.pyplot.pie\n",
    "matplotlib.axes.Axes.legend\n",
    "matplotlib.pyplot.legend"
   ]
  },
  {
   "cell_type": "markdown",
   "metadata": {},
   "source": [
    "## Quartiles, Outliers and Boxplots"
   ]
  },
  {
   "cell_type": "markdown",
   "metadata": {},
   "source": [
    "#### Calculate the final tumor volume of each mouse across four of the treatment regimens:  \n",
    "#### Capomulin, Ramicane, Infubinol, and Ceftamin\n",
    "#### Start by getting the last (greatest) timepoint for each mouse\n",
    "#### Merge this group df with the original dataframe to get the tumor volume at the last timepoint"
   ]
  },
  {
   "cell_type": "code",
   "execution_count": null,
   "metadata": {},
   "outputs": [],
   "source": [
    "# Put treatments into a list for for loop (and later for plot labels)\n",
    "#treatment_list = [\"Capomulin\", \"Ramicane\", \"Infubinol\", \"Ceftamin\"]\n",
    "\n",
    "# Create empty list to fill with tumor vol data (for plotting)\n",
    "#tumor_vol_list = []\n",
    "\n",
    "#subset_df = sorted_clean_df[['Mouse ID', 'Drug Regimen', 'Timepoint', 'Tumor Volume (mm3)']]\n",
    "\n",
    "#tumor_vol_list = subset1_df['Tumor Volume (mm3)']\n",
    "#tumor_vol_list.head()"
   ]
  },
  {
   "cell_type": "code",
   "execution_count": null,
   "metadata": {},
   "outputs": [],
   "source": [
    "clean_df.columns"
   ]
  },
  {
   "cell_type": "code",
   "execution_count": null,
   "metadata": {},
   "outputs": [],
   "source": [
    "# sort the clean_df by timepoint (descending)\n",
    "sorted_clean_df = clean_df.sort_values(['Timepoint'], ascending=False)\n",
    "sorted_clean_df"
   ]
  },
  {
   "cell_type": "markdown",
   "metadata": {},
   "source": [
    "Expected results:\n",
    "\n",
    "Capomulin's potential outliers: Series([], Name: Tumor Volume (mm3), dtype: float64)\n",
    "\n",
    "Ramicane's potential outliers: Series([], Name: Tumor Volume (mm3), dtype: float64)\n",
    "\n",
    "Infubinol's potential outliers: 31    36.321346\n",
    "\n",
    "Name: Tumor Volume (mm3), dtype: float64\n",
    "\n",
    "Ceftamin's potential outliers: Series([], Name: Tumor Volume (mm3), dtype: float64)\n"
   ]
  },
  {
   "cell_type": "markdown",
   "metadata": {},
   "source": [
    "#### Calculate the IQR and quantitatively determine if there are any potential outliers for drug in treatment_list:\n",
    "    # Locate the rows which contain mice on each drug and get the tumor volumes\n",
    "    # add subset \n",
    "    # Determine outliers using upper and lower bounds"
   ]
  },
  {
   "cell_type": "code",
   "execution_count": null,
   "metadata": {},
   "outputs": [],
   "source": [
    "# create subset dataframe for drugs: \"Capomulin\", \"Ramicane\", \"Infubinol\", \"Ceftamin\"\n",
    "subset_df = sorted_clean_df[['Mouse ID', 'Drug Regimen', 'Timepoint', 'Tumor Volume (mm3)']]\n",
    "subset1_df = subset_df[subset_df['Drug Regimen'].isin ([\"Capomulin\", \"Ramicane\", \"Infubinol\", \"Ceftamin\"])]\n",
    "subset1_df"
   ]
  },
  {
   "cell_type": "code",
   "execution_count": null,
   "metadata": {},
   "outputs": [],
   "source": [
    "# Capomulin subset\n",
    "Capomulin_df = subset1_df[subset1_df['Drug Regimen'] == \"Capomulin\"]\n",
    "Capomulin_df.head()"
   ]
  },
  {
   "cell_type": "code",
   "execution_count": null,
   "metadata": {},
   "outputs": [],
   "source": [
    "Capomulin_tum_vol=Capomulin_df['Tumor Volume (mm3)']\n",
    "Capomulin_tum_vol=Capomulin_tum_vol.sort_values\n",
    "Capomulin_tum_vol"
   ]
  },
  {
   "cell_type": "code",
   "execution_count": null,
   "metadata": {},
   "outputs": [],
   "source": [
    "# Ramicane subset\n",
    "Ramicane_df = subset1_df[subset1_df['Drug Regimen'] == \"Ramicane\"]\n",
    "Ramicane_df.head()"
   ]
  },
  {
   "cell_type": "code",
   "execution_count": null,
   "metadata": {},
   "outputs": [],
   "source": [
    "Ramicane_tum_vol=Ramicane_df['Tumor Volume (mm3)']\n",
    "Ramicane_tum_vol=Ramicane_tum_vol.sort_values\n",
    "Ramicane_tum_vol"
   ]
  },
  {
   "cell_type": "code",
   "execution_count": null,
   "metadata": {},
   "outputs": [],
   "source": [
    "# Infubinol subset\n",
    "Infubinol_df = subset1_df[subset1_df['Drug Regimen'] == \"Infubinol\"]\n",
    "Infubinol_df.head()"
   ]
  },
  {
   "cell_type": "code",
   "execution_count": null,
   "metadata": {},
   "outputs": [],
   "source": [
    "Infubinol_tum_vol=Infubinol_df['Tumor Volume (mm3)']\n",
    "Infubinol_tum_vol=Infubinol_tum_vol.sort_values\n",
    "Infubinol_tum_vol"
   ]
  },
  {
   "cell_type": "code",
   "execution_count": null,
   "metadata": {},
   "outputs": [],
   "source": [
    "# Ceftamin subset\n",
    "Ceftamin_df = subset1_df[subset1_df['Drug Regimen'] == \"Ceftamin\"]\n",
    "Ceftamin_df.head()"
   ]
  },
  {
   "cell_type": "code",
   "execution_count": null,
   "metadata": {},
   "outputs": [],
   "source": [
    "Ceftamin_tum_vol=Ceftamin_df['Tumor Volume (mm3)']\n",
    "Ceftamin_tum_vol"
   ]
  },
  {
   "cell_type": "markdown",
   "metadata": {},
   "source": [
    "#sorted_tumor_vol_list = tumor_vol_list.sort_values(['Tumor Volume (mm3)'], ascending=False)"
   ]
  },
  {
   "cell_type": "markdown",
   "metadata": {},
   "source": [
    "#TEST CELL only\n",
    "#tumor_vol_list = [40.159220, 38.407618, 67918767, 64.729837]\n",
    "#For each numeric attribute of dataframe \n",
    "#sorted_clean_df.plot.box() \n",
    "#Capomulin_df.plot.box() \n",
    "#individual attribute box plot \n",
    "#plt.boxplot(sorted_clean_df['Timepoint']) \n",
    "#plt.show() "
   ]
  },
  {
   "cell_type": "markdown",
   "metadata": {},
   "source": [
    "## Generate a box plot of the final tumor volume of each mouse across four regimens of interest"
   ]
  },
  {
   "cell_type": "code",
   "execution_count": null,
   "metadata": {},
   "outputs": [],
   "source": [
    "#NOTE:  \n",
    "# x_axis = treatment_list\n",
    "# y_axis = tumor_vol_list ==> Final Tumor Volume(mm3)\n",
    "\n",
    "treatment_list = [\"Capomulin\", \"Ramicane\", \"Infubinol\", \"Ceftamin\"]\n",
    "\n",
    "# -- Capomulin\n",
    "tumor_vol_list = Capomulin_tum_vol\n",
    "\n",
    "#tumor_vol_list = Ramicane_tum_vol\n",
    "#tumor_vol_list = Infubinol_tum_vol\n",
    "#tumor_vol_list = Ceftamin_tum_vol\n",
    "\n",
    "#Capomulin_df.plot.box()\n",
    "#Ramicane_df.plot.box()\n",
    "#Infubinol_df.plot.box()\n",
    "#Ceftamin_df.plot.box()\n",
    "\n",
    "x_axis = treatment_list\n",
    "y_axis = tumor_vol_list\n",
    "\n",
    "# Setting up the plot\n",
    "fig, ax = plt.subplots()\n",
    "\n",
    "#ax.errorbar(x_axis, means, standard_errors, fmt=\"o\")\n",
    "ax.set_xlim(0, len(treatment_list) + 1)\n",
    "ax.set_ylim(20,80)\n",
    "\n",
    "ax.set_title('Final Tumor Volume Across Four of the Treament Regimens')\n",
    "ax.set_xlabel(\"Drug Regimen\")\n",
    "ax.set_ylabel(\"Final Tumor Volume (mm3)\")\n",
    "\n",
    "ax.boxplot(tumor_vol_list)\n",
    "\n",
    "plt.tight_layout()\n",
    "\n",
    "plt.show()\n",
    "\n",
    "#smaller bars are better"
   ]
  },
  {
   "cell_type": "markdown",
   "metadata": {},
   "source": [
    "# Line and Scatter Plots"
   ]
  },
  {
   "cell_type": "markdown",
   "metadata": {},
   "source": [
    "### Generate a line plot of tumor volume vs. time point for a mouse treated with Capomulin"
   ]
  },
  {
   "cell_type": "code",
   "execution_count": null,
   "metadata": {},
   "outputs": [],
   "source": [
    "# for reference\n",
    "clean_df"
   ]
  },
  {
   "cell_type": "code",
   "execution_count": null,
   "metadata": {},
   "outputs": [],
   "source": [
    "# Generate a line plot of tumor volume vs. time point for a mouse treated with Capomulin\n",
    "\n",
    "drug_tumor_timept_df = clean_df[['Drug Regimen', 'Mouse ID', 'Weight (g)', 'Timepoint', 'Tumor Volume (mm3)']]\n",
    "drug_tumor_timept_df"
   ]
  },
  {
   "cell_type": "code",
   "execution_count": null,
   "metadata": {},
   "outputs": [],
   "source": [
    "Capomulin_only_tumor_timept_df = drug_tumor_timept_df[drug_tumor_timept_df['Drug Regimen'] == 'Capomulin']\n",
    "Capomulin_only_tumor_timept_df"
   ]
  },
  {
   "cell_type": "code",
   "execution_count": null,
   "metadata": {},
   "outputs": [],
   "source": [
    "Capomulin_only_mouse_l509_df = drug_tumor_timept_df[(drug_tumor_timept_df['Mouse ID'] == 'l509')]\n",
    "Capomulin_only_mouse_l509_df"
   ]
  },
  {
   "cell_type": "code",
   "execution_count": null,
   "metadata": {},
   "outputs": [],
   "source": [
    "timepoint = Capomulin_only_mouse_l509_df['Timepoint']\n",
    "timepoint"
   ]
  },
  {
   "cell_type": "code",
   "execution_count": null,
   "metadata": {},
   "outputs": [],
   "source": [
    "tumor_vol = Capomulin_only_mouse_l509_df['Tumor Volume (mm3)']\n",
    "tumor_vol"
   ]
  },
  {
   "cell_type": "code",
   "execution_count": null,
   "metadata": {},
   "outputs": [],
   "source": [
    "#plt.figure()\n",
    "#plt.plot(timepoint, tumor_vol)"
   ]
  },
  {
   "cell_type": "markdown",
   "metadata": {},
   "source": [
    "## Line plot of tumor volume vs. time point for Mouse l509 treated with Capomulin"
   ]
  },
  {
   "cell_type": "code",
   "execution_count": null,
   "metadata": {},
   "outputs": [],
   "source": [
    "plt.close()\n",
    "\n",
    "plt.plot(timepoint, tumor_vol)\n",
    "\n",
    "# Set a Title and labels\n",
    "plt.title(\"Capomulin Treatment of Mouse l509\")\n",
    "plt.xlabel(\"Timepoint(days)\")\n",
    "plt.ylabel(\"Tumor Volume (mm3)\")\n",
    "\n",
    "# tight_layout() adjusts the visual of our graph making it easier to see\n",
    "plt.tight_layout()\n",
    "\n",
    "# Save our graph and show the graph\n",
    "# plt.savefig(\"../Images/<xyz.png\")\n",
    "plt.show()"
   ]
  },
  {
   "cell_type": "markdown",
   "metadata": {},
   "source": [
    "## Scatter plot of average tumor volume vs. mouse weight for the Capomulin regimen"
   ]
  },
  {
   "cell_type": "code",
   "execution_count": null,
   "metadata": {},
   "outputs": [],
   "source": [
    "# extract Capomulin only\n",
    "Capomulin_only = clean_df[(clean_df['Drug Regimen'] == 'Capomulin')]\n",
    "Capomulin_only"
   ]
  },
  {
   "cell_type": "code",
   "execution_count": null,
   "metadata": {},
   "outputs": [],
   "source": [
    "Capomulin_weight_tumor_vol = Capomulin_only.groupby('Mouse ID').agg({'Weight (g)': 'mean', 'Tumor Volume (mm3)': 'mean'})\n",
    "Capomulin_weight_tumor_vol.head()"
   ]
  },
  {
   "cell_type": "code",
   "execution_count": null,
   "metadata": {},
   "outputs": [],
   "source": [
    "Capomulin_weight = Capomulin_weight_tumor_vol['Weight (g)']\n",
    "Capomulin_weight.head()"
   ]
  },
  {
   "cell_type": "code",
   "execution_count": null,
   "metadata": {},
   "outputs": [],
   "source": [
    "Capomulin_t_vol = Capomulin_weight_tumor_vol['Tumor Volume (mm3)']\n",
    "Capomulin_t_vol.head()"
   ]
  },
  {
   "cell_type": "markdown",
   "metadata": {},
   "source": [
    "## Scatter plot of average tumor volume vs. mouse weight for the Capomulin regimen¶"
   ]
  },
  {
   "cell_type": "code",
   "execution_count": null,
   "metadata": {},
   "outputs": [],
   "source": [
    "# Get the maximum value for the x_limit\n",
    "min_weight = Capomulin_weight.min()\n",
    "min_weight"
   ]
  },
  {
   "cell_type": "code",
   "execution_count": null,
   "metadata": {},
   "outputs": [],
   "source": [
    "max_weight = Capomulin_weight.max()\n",
    "max_weight"
   ]
  },
  {
   "cell_type": "code",
   "execution_count": null,
   "metadata": {},
   "outputs": [],
   "source": [
    "# Get the minimum & maximum value for the y_limit\n",
    "min_tumor_vol = Capomulin_t_vol.min()\n",
    "min_tumor_vol"
   ]
  },
  {
   "cell_type": "code",
   "execution_count": null,
   "metadata": {},
   "outputs": [],
   "source": [
    "max_tumor_vol = Capomulin_t_vol.max()\n",
    "max_tumor_vol"
   ]
  },
  {
   "cell_type": "markdown",
   "metadata": {},
   "source": [
    "## Scatter Plot"
   ]
  },
  {
   "cell_type": "code",
   "execution_count": null,
   "metadata": {},
   "outputs": [],
   "source": [
    "# enable matplotlib so that the correlation / regression line can be drawn over the scatter plot\n",
    "\n",
    "%matplotlib notebook \n",
    "\n",
    "#----------------------------------------------\n",
    "# Dependencies\n",
    "from matplotlib import pyplot as plt\n",
    "from scipy.stats import linregress\n",
    "import numpy as np\n",
    "from sklearn import datasets\n",
    "import pandas as pd\n",
    "#----------------------------------------------\n",
    "\n",
    "# The maximum x value for our chart will be 25\n",
    "x_limit = max_weight\n",
    "\n",
    "# List of values from 15 to 25 each value being 1 greater than the last\n",
    "x_axis = np.arange(0, x_limit, 2)\n",
    "\n",
    "# Create a random array of data that we will use for our y values\n",
    "#data = [random.random() for value in x_axis]\n",
    "\n",
    "data = Capomulin_t_vol\n",
    "\n",
    "# Tells matplotlib to create a scatter plot\n",
    "# The size of each point on our plot is determined by their x value\n",
    "\n",
    "plt.scatter(Capomulin_weight_tumor_vol['Weight (g)'], Capomulin_weight_tumor_vol['Tumor Volume (mm3)'], \n",
    "            marker=\"o\", facecolors=\"red\", edgecolors=\"black\", s=Capomulin_weight, alpha=0.75)\n",
    "\n",
    "# The x limits of our scatter plot is 15 to 25\n",
    "plt.xlim(min_weight-0.5, max_weight+0.5)   \n",
    "\n",
    "# The y limits of our scatter plot is 34 to 46\n",
    "plt.ylim(min_tumor_vol-1, max_tumor_vol+1)\n",
    "\n",
    "# Set a Title and labels\n",
    "plt.title(\"Average Tumor Volume vs Mouse Weight\")\n",
    "plt.xlabel(\"Weight (g)\")\n",
    "plt.ylabel(\"Average Tumor Volume (mm3)\")\n",
    "\n",
    "# tigh_layout() adjusts the visual of our graph making it easier to see\n",
    "plt.tight_layout()\n",
    "\n",
    "# Save our graph and show the graph\n",
    "# plt.savefig(\"../Images/<xyz.png\")\n",
    "plt.show()\n",
    "\n",
    "#plt.close  "
   ]
  },
  {
   "cell_type": "markdown",
   "metadata": {},
   "source": [
    "## Correlation and Regression"
   ]
  },
  {
   "cell_type": "code",
   "execution_count": null,
   "metadata": {},
   "outputs": [],
   "source": [
    "# Calculate the correlation coefficient and linear regression model \n",
    "# for mouse weight and average tumor volume for the Capomulin regimen"
   ]
  },
  {
   "cell_type": "code",
   "execution_count": null,
   "metadata": {},
   "outputs": [],
   "source": [
    "mouse_weight = Capomulin_weight_tumor_vol['Weight (g)']\n",
    "tumor_volume = Capomulin_weight_tumor_vol['Tumor Volume (mm3)']\n",
    "\n",
    "correlation = st.pearsonr(mouse_weight, tumor_volume)\n",
    "correlation"
   ]
  },
  {
   "cell_type": "markdown",
   "metadata": {},
   "source": [
    "## Scatter Plot -- Line"
   ]
  },
  {
   "cell_type": "code",
   "execution_count": null,
   "metadata": {},
   "outputs": [],
   "source": [
    "# Add the linear regression equation and line to plot\n",
    "x_values = Capomulin_weight_tumor_vol['Weight (g)']\n",
    "y_values = Capomulin_weight_tumor_vol['Tumor Volume (mm3)']"
   ]
  },
  {
   "cell_type": "code",
   "execution_count": null,
   "metadata": {},
   "outputs": [],
   "source": [
    "(slope, intercept, rvalue, pvalue, stderr) = linregress(x_values, y_values)\n",
    "regress_values = x_values * slope + intercept\n",
    "\n",
    "line_eq = \"y = \" + str(round(slope,2)) + \"x + \" + str(round(intercept,2))"
   ]
  },
  {
   "cell_type": "code",
   "execution_count": null,
   "metadata": {},
   "outputs": [],
   "source": [
    "plt.scatter(x_values,y_values)\n",
    "plt.plot(x_values,regress_values,\"r-\")\n",
    "plt.annotate(line_eq,(6,10),fontsize=15,color=\"red\")\n",
    "plt.show()\n",
    "plt.close "
   ]
  }
 ],
 "metadata": {
  "anaconda-cloud": {},
  "kernelspec": {
   "display_name": "Python 3",
   "language": "python",
   "name": "python3"
  },
  "language_info": {
   "codemirror_mode": {
    "name": "ipython",
    "version": 3
   },
   "file_extension": ".py",
   "mimetype": "text/x-python",
   "name": "python",
   "nbconvert_exporter": "python",
   "pygments_lexer": "ipython3",
   "version": "3.8.5"
  }
 },
 "nbformat": 4,
 "nbformat_minor": 4
}
